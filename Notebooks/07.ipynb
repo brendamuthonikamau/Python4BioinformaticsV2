{
 "cells": [
  {
   "cell_type": "markdown",
   "metadata": {},
   "source": [
    "<small><small><i>\n",
    "Introduction to Python for Bioinformatics - available at https://github.com/kipkurui/Python4Bioinformatics.\n",
    "</i></small></small>\n",
    "\n",
    "## Files, Scripting and Modules\n",
    "\n",
    "So far, we have been writing all our Python Code in Jupyter notebooks. However, if you want to use the code we have written as part of a pipeline, you need to write scripts. Also, most of the time the data you need to analyse is in a file, which you need to read to Python and process. \n",
    "\n",
    "\n",
    "### Reading Files\n",
    "\n",
    "So far we have been working from memory. In Bioinformatics, you will need to read some file or even write some output to file. We use the `open` function. "
   ]
  },
  {
   "cell_type": "code",
   "execution_count": 1,
   "metadata": {},
   "outputs": [],
   "source": [
    "myfile = open(\"../Data/test.txt\", \"w\")\n",
    "myfile.write(\"My first file written from Python \\n\")\n",
    "myfile.write(\"---------------------------------\\n\")\n",
    "myfile.write(\"Hello, world!\\n\")\n",
    "myfile.close()"
   ]
  },
  {
   "cell_type": "markdown",
   "metadata": {},
   "source": [
    "The **mode** in which you open the file determines whether to write (w), read (r) or append(a) to file. \n",
    "\n",
    "Opening a file creates what we call a **file handle** which contains methods for manipulating the file. In our case, `myfile` has the methods to write and close the file. Closing the file makes it accessible in the disk. \n",
    "\n",
    "Alternatively, one can open the file in a mode that automatically closes the file when done. "
   ]
  },
  {
   "cell_type": "code",
   "execution_count": 2,
   "metadata": {},
   "outputs": [],
   "source": [
    "with open(\"../Data/test.txt\", \"w\") as myfile:\n",
    "    myfile.write(\"My first file written from Python \\n\")\n",
    "    myfile.write(\"---------------------------------\\n\")\n",
    "    myfile.write(\"Hello, world!\\n\")"
   ]
  },
  {
   "cell_type": "markdown",
   "metadata": {},
   "source": [
    "Let's check what else we can do with `open`."
   ]
  },
  {
   "cell_type": "code",
   "execution_count": 3,
   "metadata": {},
   "outputs": [],
   "source": [
    "?open"
   ]
  },
  {
   "cell_type": "markdown",
   "metadata": {},
   "source": [
    "#### Fetching file from the web\n",
    "Download this [file](https://www.uniprot.org/docs/humchrx.txt) we will use to explore file reading in python. "
   ]
  },
  {
   "cell_type": "code",
   "execution_count": 5,
   "metadata": {},
   "outputs": [
    {
     "data": {
      "text/plain": [
       "('../Files/humchrx.txt', <http.client.HTTPMessage at 0x7f80840da6d8>)"
      ]
     },
     "execution_count": 5,
     "metadata": {},
     "output_type": "execute_result"
    }
   ],
   "source": [
    "import urllib.request\n",
    "\n",
    "url = \"https://www.uniprot.org/docs/humchrx.txt\"\n",
    "destination_filename = \"../Data/humchrx.txt\"\n",
    "urllib.request.urlretrieve(url, destination_filename)"
   ]
  },
  {
   "cell_type": "markdown",
   "metadata": {},
   "source": [
    "#### Reading a file line-at-a-time\n",
    "\n",
    "We can read the file line by line using `readline`. Thie reads the line one by one until the end of the file. This is suitable for a large file which may not fit memory. "
   ]
  },
  {
   "cell_type": "code",
   "execution_count": 6,
   "metadata": {},
   "outputs": [
    {
     "name": "stdout",
     "output_type": "stream",
     "text": [
      "----------------------------------------------------------------------------\n",
      "\n"
     ]
    }
   ],
   "source": [
    "humchrx = open('../Data/humchrx.txt', 'r')\n",
    "line = humchrx.readline()\n",
    "print(line)"
   ]
  },
  {
   "cell_type": "code",
   "execution_count": 4,
   "metadata": {},
   "outputs": [],
   "source": [
    "humchrx = open('../Data/humchrx.txt', 'r')"
   ]
  },
  {
   "cell_type": "code",
   "execution_count": 7,
   "metadata": {},
   "outputs": [
    {
     "ename": "NameError",
     "evalue": "name 'index' is not defined",
     "output_type": "error",
     "traceback": [
      "\u001b[0;31m---------------------------------------------------------------------------\u001b[0m",
      "\u001b[0;31mNameError\u001b[0m                                 Traceback (most recent call last)",
      "\u001b[0;32m/tmp/ipykernel_4733/127349038.py\u001b[0m in \u001b[0;36m<module>\u001b[0;34m\u001b[0m\n\u001b[0;32m----> 1\u001b[0;31m \u001b[0;32mdel\u001b[0m \u001b[0mindex\u001b[0m\u001b[0;34m[\u001b[0m\u001b[0;36m35\u001b[0m\u001b[0;34m]\u001b[0m\u001b[0;34m\u001b[0m\u001b[0;34m\u001b[0m\u001b[0m\n\u001b[0m",
      "\u001b[0;31mNameError\u001b[0m: name 'index' is not defined"
     ]
    }
   ],
   "source": [
    "del hum[35]"
   ]
  },
  {
   "cell_type": "code",
   "execution_count": 7,
   "metadata": {},
   "outputs": [],
   "source": [
    "humchrx.close()"
   ]
  },
  {
   "cell_type": "code",
   "execution_count": 8,
   "metadata": {},
   "outputs": [
    {
     "name": "stdout",
     "output_type": "stream",
     "text": [
      "My first file written from Python \n",
      "\n",
      "---------------------------------\n",
      "\n",
      "Hello, world!\n",
      "\n"
     ]
    }
   ],
   "source": [
    "with open('../Data/test.txt', 'r') as myfile:\n",
    "    while True:\n",
    "        line = myfile.readline()\n",
    "        if len(line) == 0: # If there are no more lines\n",
    "            break\n",
    "        print(line)\n",
    "    "
   ]
  },
  {
   "cell_type": "markdown",
   "metadata": {},
   "source": [
    "### Read the whole file\n",
    "\n",
    "If the file is small or PC has enough memory, you can read the whole file into memory as a list using `readlines`."
   ]
  },
  {
   "cell_type": "code",
   "execution_count": 9,
   "metadata": {},
   "outputs": [
    {
     "name": "stdout",
     "output_type": "stream",
     "text": [
      "My first file written from Python \n",
      "\n",
      "---------------------------------\n",
      "\n",
      "Hello, world!\n",
      "\n"
     ]
    }
   ],
   "source": [
    "with open('../Data/test.txt', 'r') as myfile:\n",
    "    lines = myfile.readlines()\n",
    "    for line in lines:\n",
    "        print(line)"
   ]
  },
  {
   "cell_type": "markdown",
   "metadata": {},
   "source": [
    "or as a whole"
   ]
  },
  {
   "cell_type": "code",
   "execution_count": 10,
   "metadata": {},
   "outputs": [
    {
     "name": "stdout",
     "output_type": "stream",
     "text": [
      "My first file written from Python \n",
      "---------------------------------\n",
      "Hello, world!\n",
      "\n"
     ]
    }
   ],
   "source": [
    "with open('../Data/test.txt', 'r') as myfile:\n",
    "    whole_file = myfile.read()\n",
    "    print(whole_file)"
   ]
  },
  {
   "cell_type": "markdown",
   "metadata": {},
   "source": [
    "### Exercise 1\n",
    "\n",
    "Write a function the reads the file (humchr.txt) and writes to another file (gene_names.txt) a clean list of gene names."
   ]
  },
  {
   "cell_type": "code",
   "execution_count": 42,
   "metadata": {},
   "outputs": [
    {
     "name": "stdout",
     "output_type": "stream",
     "text": [
      "['ABCB7', 'ABCD1', 'ACE2', 'ACOT9', 'ACSL4', 'ACTRT1', 'ADGRG2', 'ADGRG4', 'AFF2', 'AGTR2', 'AIFM1', 'AKAP14', 'AKAP17A', 'AKAP4', 'ALAS2', 'ALG13', 'AMELX', 'AMER1', 'AMMECR1', 'AMOT', 'ANOS1', 'AP1S2', 'APEX2', 'APLN', 'APOO', 'APOOL', 'AR', 'ARAF', 'ARHGAP36', 'ARHGAP4', 'ARHGAP6', 'ARHGEF6', 'ARHGEF9', 'ARL13A', 'ARMCX1', 'ARMCX2', 'ARMCX3', 'ARMCX4', 'ARMCX5', 'ARMCX6', 'ARR3', 'ARSD', 'ARSE', 'ARSF', 'ARSH', 'ARX', 'ASB11', 'ASB12', 'ASB9', 'ASMT', 'ASMTL', 'ATG4A', 'ATP11C', 'ATP1B4', 'ATP2B3', 'ATP6AP1', 'ATP6AP2', 'ATP7A', 'ATRX', 'ATXN3L', 'AVPR2', 'AWAT1', 'AWAT2', 'BCAP31', 'BCLAF3', 'BCOR', 'BCORL1', 'BEND2', 'BEX1', 'BEX2', 'BEX3', 'BEX4', 'BEX5', 'BGN', 'BHLHB9', 'BMP15', 'BMP2KL', 'BMX', 'BRCC3', 'BRS3', 'BRWD3', 'BTK', 'C1GALT1C1', 'CA5B', 'CA5BP1', 'CACNA1F', 'CAPN6', 'CASK', 'CBLL2', 'CCDC120', 'CCDC160', 'CCDC22', 'CCNB3', 'CCNQ', 'CD40LG', 'CD99', 'CD99L2', 'CDK16', 'CDKL5', 'CDR1', 'CDX4', 'CENPI', 'CENPVL1', 'CENPVL2', 'CENPVL3', 'CETN2', 'CFAP47', 'CFP', 'CHIC1', 'CHM', 'CHRDL1', 'CHST7', 'CITED1', 'CLCN4', 'CLCN5', 'CLDN2', 'CLDN34', 'CLIC2', 'CLTRN', 'CMC4', 'CNGA2', 'CNKSR2', 'COL4A5', 'COL4A6', 'COX7B', 'CPXCR1', 'CRLF2', 'CSAG1', 'CSAG2', 'CSAG3', 'CSF2RA', 'CSTF2', 'CT45A1', 'CT45A10', 'CT45A2', 'CT45A3', 'CT45A5', 'CT45A6', 'CT45A7', 'CT45A8', 'CT45A9', 'CT47A1', 'CT47A10', 'CT47A11', 'CT47A12', 'CT47A2', 'CT47A3', 'CT47A4', 'CT47A5', 'CT47A6', 'CT47A7', 'CT47A8', 'CT47A9', 'CT47B1', 'CT55', 'CT83', 'CTAG1A', 'CTAG1B', 'CTAG2', 'CTPS2', 'CUL4B', 'CXCR3', 'CXorf1', 'CXorf21', 'CXorf38', 'CXorf40A', 'CXorf40B', 'CXorf49', 'CXorf49B', 'CXorf51A', 'CXorf51B', 'CXorf56', 'CXorf58', 'CXorf65', 'CXorf66', 'CXorf67', 'CYBB', 'CYLC1', 'CYSLTR1', 'DACH2', 'DCAF12L1', 'DCAF12L2', 'DCAF8L1', 'DCAF8L2', 'DCX', 'DDX3X', 'DDX53', 'DGAT2L6', 'DGKK', 'DHRSX', 'DIAPH2', 'DIAPH2-AS1', 'DIPK2B', 'DKC1', 'DLG3', 'DMD', 'DMRTC1', 'DMRTC1B', 'DNASE1L1', 'DOCK11', 'DRP2', 'DUSP21', 'DUSP9', 'DYNLT3', 'EBP', 'EDA', 'EDA2R', 'EFHC2', 'EFNB1', 'EGFL6', 'EIF1AX', 'EIF2S3', 'ELF4', 'ELK1', 'EMD', 'ENOX2', 'ERAS', 'ERCC6L', 'ERVFC1', 'ESX1', 'ETDA', 'ETDB', 'ETDC', 'F8', 'F8A1', 'F8A2', 'F8A3', 'F9', 'FAAH2', 'FAM104B', 'FAM120C', 'FAM122B', 'FAM122C', 'FAM133A', 'FAM155B', 'FAM156A', 'FAM156B', 'FAM199X', 'FAM223A', 'FAM223B', 'FAM236A', 'FAM236B', 'FAM236C', 'FAM236D', 'FAM3A', 'FAM45BP', 'FAM47A', 'FAM47B', 'FAM47C', 'FAM47DP', 'FAM50A', 'FAM9A', 'FAM9B', 'FAM9C', 'FANCB', 'FATE1', 'FGD1', 'FGF13', 'FGF16', 'FHL1', 'FLNA', 'FMR1', 'FMR1NB', 'FOXO4', 'FOXP3', 'FOXR2', 'FRMD7', 'FRMD8P1', 'FRMPD3', 'FRMPD4', 'FTH1P19', 'FTHL17', 'FTSJ1', 'FUNDC1', 'FUNDC2', 'FXYD6P3', 'G6PD', 'GAB3', 'GABRA3', 'GABRE', 'GABRQ', 'GAGE1', 'GAGE10', 'GAGE12B', 'GAGE12C', 'GAGE12D', 'GAGE12E', 'GAGE12F', 'GAGE12G', 'GAGE12H', 'GAGE12I', 'GAGE12J', 'GAGE13', 'GAGE2A', 'GAGE2B', 'GAGE2C', 'GAGE2D', 'GAGE2E', 'GAGE4', 'GAGE5', 'GAGE6', 'GAGE7', 'GAGE8', 'GATA1', 'GCNA', 'GDI1', 'GDPD2', 'GEMIN8', 'GJB1', 'GK', 'GLA', 'GLOD5', 'GLRA2', 'GLRA4', 'GLUD2', 'GNL3L', 'GPC3', 'GPC4', 'GPKOW', 'GPM6B', 'GPR101', 'GPR119', 'GPR143', 'GPR173', 'GPR174', 'GPR34', 'GPR50', 'GPR82', 'GPRASP1', 'GPRASP2', 'GRIA3', 'GRIPAP1', 'GRPR', 'GSPT2', 'GTPBP6', 'GUCY2F', 'GYG2', 'H2AFB1', 'H2AFB2', 'H2AFB3', 'H2BFM', 'H2BFWT', 'HAUS7', 'HCCS', 'HCFC1', 'HDAC6', 'HDAC8', 'HDX', 'HEPH', 'HMGB3', 'HMGN5', 'HNRNPH2', 'HPRT1', 'HS6ST2', 'HSD17B10', 'HSFX1', 'HSFX2', 'HSFX3', 'HSFX4', 'HTATSF1', 'HTR2C', 'HUWE1', 'HYPM', 'IDH3G', 'IDS', 'IGBP1', 'IGSF1', 'IKBKG', 'IL13RA1', 'IL13RA2', 'IL1RAPL1', 'IL1RAPL2', 'IL2RG', 'IL3RA', 'IL9R', 'INE1', 'INTS6L', 'IQSEC2', 'IRAK1', 'IRS4', 'ITGB1BP2', 'ITIH6', 'ITM2A', 'JADE3', 'KCND1', 'KCNE5', 'KDM5C', 'KDM6A', 'KIAA1210', 'KIF4A', 'KLF8', 'KLHL13', 'KLHL15', 'KLHL34', 'KLHL4', 'KRBOX4', 'L1CAM', 'LAGE3', 'LAMP2', 'LANCL3', 'LAS1L', 'LCA10', 'LDOC1', 'LHFPL1', 'LINC00269', 'LINC01545', 'LINC01546', 'LINC01560', 'LONRF3', 'LPAR4', 'LRCH2', 'LUZP4', 'MAGEA1', 'MAGEA10', 'MAGEA11', 'MAGEA12', 'MAGEA13P', 'MAGEA2', 'MAGEA2B', 'MAGEA3', 'MAGEA4', 'MAGEA5', 'MAGEA6', 'MAGEA8', 'MAGEA9', 'MAGEA9B', 'MAGEB1', 'MAGEB10', 'MAGEB16', 'MAGEB17', 'MAGEB18', 'MAGEB2', 'MAGEB3', 'MAGEB4', 'MAGEB5', 'MAGEB6', 'MAGEC1', 'MAGEC2', 'MAGEC3', 'MAGED1', 'MAGED2', 'MAGED4', 'MAGED4B', 'MAGEE1', 'MAGEE2', 'MAGEH1', 'MAGIX', 'MAGT1', 'MAMLD1', 'MAOA', 'MAOB', 'MAP3K15', 'MAP7D2', 'MAP7D3', 'MBNL3', 'MBTPS2', 'MCF2', 'MCTS1', 'MECP2', 'MED12', 'MED14', 'MED14OS', 'MID1', 'MID1IP1', 'MID2', 'MKRN4P', 'MMGT1', 'MORC4', 'MORF4L2', 'MOSPD1', 'MOSPD2', 'MPC1L', 'MPP1', 'MSL3', 'MSN', 'MTCP1', 'MTM1', 'MTMR1', 'MTMR8', 'MTRNR2L10', 'MXRA5', 'MYCLP1', 'NAA10', 'NAP1L2', 'NAP1L3', 'NAP1L6', 'NBDY', 'NCBP2L', 'NDP', 'NDUFA1', 'NDUFB11', 'NEXMIF', 'NHS', 'NHSL2', 'NKAP', 'NKAPP1', 'NKRF', 'NLGN3', 'NLGN4X', 'NLRP2B', 'NONO', 'NOX1', 'NR0B1', 'NRK', 'NSDHL', 'NUDT10', 'NUDT11', 'NUP62CL', 'NXF2', 'NXF2B', 'NXF3', 'NXF5', 'NXT2', 'NYX', 'OCRL', 'OFD1', 'OGT', 'OPHN1', 'OPN1LW', 'OPN1MW', 'OPN1MW2', 'OPN1MW3', 'OR13H1', 'OTC', 'OTUD5', 'OTUD6A', 'P2RY10', 'P2RY4', 'P2RY8', 'PABPC1L2A', 'PABPC1L2B', 'PABPC5', 'PAGE1', 'PAGE2', 'PAGE2B', 'PAGE3', 'PAGE4', 'PAGE5', 'PAK3', 'PASD1', 'PBDC1', 'PCDH11X', 'PCDH19', 'PCSK1N', 'PCYT1B', 'PDHA1', 'PDK3', 'PDZD11', 'PDZD4', 'PFKFB1', 'PGAM4', 'PGK1', 'PGRMC1', 'PHEX', 'PHF6', 'PHF8', 'PHKA1', 'PHKA2', 'PIGA', 'PIH1D3', 'PIM2', 'PIN4', 'PIR', 'PJA1', 'PLAC1', 'PLCXD1', 'PLP1', 'PLP2', 'PLS3', 'PLXNA3', 'PLXNB3', 'PNCK', 'PNMA3', 'PNMA5', 'PNMA6A', 'PNMA6E', 'PNMA6F', 'PNPLA4', 'POF1B', 'POLA1', 'PORCN', 'POU3F4', 'PPEF1', 'PPP1R2C', 'PPP1R3F', 'PPP2R3B', 'PPP4R3C', 'PQBP1', 'PRAF2', 'PRDX4', 'PRICKLE3', 'PRKX', 'PRPS1', 'PRPS2', 'PRR32', 'PRRG1', 'PRRG3', 'PSMD10', 'PTCHD1', 'PUDP', 'PWWP3B', 'PYY3', 'RAB33A', 'RAB39B', 'RAB40A', 'RAB40AL', 'RAB41', 'RAB9A', 'RAB9B', 'RADX', 'RAI2', 'RAP2C', 'RBBP7', 'RBM10', 'RBM3', 'RBM41', 'RBMX', 'RBMX2', 'RBMXL3', 'RENBP', 'REPS2', 'RGN', 'RHOXF1', 'RHOXF2', 'RHOXF2B', 'RIBC1', 'RIPPLY1', 'RLIM', 'RNF113A', 'RNF128', 'RP2', 'RPA4', 'RPGR', 'RPL10', 'RPL36A', 'RPL39', 'RPL9P7', 'RPS26P11', 'RPS4X', 'RPS6KA3', 'RPS6KA6', 'RRAGB', 'RS1', 'RTL3', 'RTL4', 'RTL5', 'RTL8A', 'RTL8B', 'RTL8C', 'RTL8C', 'RTL9', 'S100G', 'SAGE1', 'SAGE2P', 'SASH3', 'SAT1', 'SATL1', 'SCML1', 'SCML2', 'SEPT6', 'SERPINA7', 'SERTM2', 'SH2D1A', 'SH3BGRL', 'SH3KBP1', 'SHOX', 'SHROOM2', 'SHROOM4', 'SLC10A3', 'SLC16A2', 'SLC25A14', 'SLC25A43', 'SLC25A5', 'SLC25A53', 'SLC25A6', 'SLC35A2', 'SLC38A5', 'SLC6A14', 'SLC6A8', 'SLC7A3', 'SLC9A6', 'SLC9A7', 'SLITRK2', 'SLITRK4', 'SMARCA1', 'SMC1A', 'SMIM10', 'SMIM10L2A', 'SMIM10L2B', 'SMIM9', 'SMPX', 'SMS', 'SNURFL', 'SNX12', 'SOWAHD', 'SOX3', 'SPACA5', 'SPACA5B', 'SPANXA1', 'SPANXA2', 'SPANXA2-OT1Xq27.2', 'SPANXB1', 'SPANXC', 'SPANXD', 'SPANXN1', 'SPANXN2', 'SPANXN3', 'SPANXN4', 'SPANXN5', 'SPIN2A', 'SPIN2B', 'SPIN3', 'SPIN4', 'SPRY3', 'SRPK3', 'SRPX', 'SRPX2', 'SSR4', 'SSX1', 'SSX2', 'SSX2B', 'SSX3', 'SSX4', 'SSX4B', 'SSX5', 'SSX6P', 'SSX7', 'SSX8P', 'SSX9P', 'STAG2', 'STARD8', 'STK26', 'STS', 'SUPT20HL1', 'SUPT20HL2', 'SUV39H1', 'SYAP1', 'SYN1', 'SYP', 'SYTL4', 'SYTL5', 'TAB3', 'TAF1', 'TAF7L', 'TAF9B', 'TAZ', 'TBC1D25', 'TBC1D8B', 'TBL1X', 'TBX22', 'TCEAL1', 'TCEAL2', 'TCEAL3', 'TCEAL4', 'TCEAL5', 'TCEAL6', 'TCEAL7', 'TCEAL8', 'TCEAL9', 'TCEANC', 'TCP11X1', 'TCP11X2', 'TDGF1P3', 'TENM1', 'TENT5D', 'TEX11', 'TEX13A', 'TEX13B', 'TEX13C', 'TEX13D', 'TEX28', 'TEX28P1', 'TEX28P2', 'TFDP3', 'TFE3', 'TGIF2LX', 'THOC2', 'TIMM17B', 'TIMM8A', 'TIMP1', 'TKTL1', 'TLR7', 'TLR8', 'TMEM164', 'TMEM185A', 'TMEM187', 'TMEM255A', 'TMEM31', 'TMEM35A', 'TMEM47', 'TMLHE', 'TMSB15A', 'TMSB15B', 'TMSB4X', 'TNMD', 'TRAPPC2', 'TREX2', 'TRMT2B', 'TRO', 'TRPC5', 'TRPC5OS', 'TSC22D3', 'TSPAN6', 'TSPAN7', 'TSPYL2', 'TSR2', 'TXLNG', 'UBA1', 'UBE2A', 'UBE2DNL', 'UBE2NL', 'UBL4A', 'UBQLN2', 'UPF3B', 'UPRT', 'USP11', 'USP26', 'USP27X', 'USP51', 'USP9X', 'UTP14A', 'UXT', 'VAMP7', 'VBP1', 'VCX', 'VCX2', 'VCX3A', 'VCX3B', 'VEGFD', 'VENTXP1', 'VGLL1', 'VMA21', 'VSIG1', 'VSIG4', 'WAS', 'WASH6P', 'WDR13', 'WDR44', 'WDR45', 'WNK3', 'WWC3', 'XAGE1A', 'XAGE1B', 'XAGE1C', 'XAGE1D', 'XAGE1E', 'XAGE2', 'XAGE3', 'XAGE5', 'XG', 'XIAP', 'XK', 'XKRX', 'XPNPEP2', 'YIPF6', 'YY2', 'ZBED1', 'ZBTB33', 'ZC3H12B', 'ZC4H2', 'ZCCHC12', 'ZCCHC13', 'ZCCHC18', 'ZDHHC15', 'ZDHHC9', 'ZFP92', 'ZFX', 'ZIC3', 'ZMAT1', 'ZMYM3', 'ZNF157', 'ZNF182', 'ZNF185', 'ZNF275', 'ZNF280C', 'ZNF41', 'ZNF449', 'ZNF630', 'ZNF674', 'ZNF711', 'ZNF75D', 'ZNF81', 'ZRSR2', 'ZXDA', 'ZXDB']\n"
     ]
    }
   ],
   "source": [
    "gene_list=[]\n",
    "#def gene_names:\n",
    "with open('../Data/humchrx.txt', 'r') as myfile:\n",
    "    file=myfile.readlines()\n",
    "    #rint(file)\n",
    "    for x,line in enumerate(file):\n",
    "        #print(x,line)\n",
    "        if x > 35:\n",
    "            split_lines=line.split()\n",
    "                                                                                                                                                                                                                                                                                                                                                                                                                                                                                                                                                                                                                                                                                                                                                                                                                                                                                                                                                                                                                                                                                                                                                                                                                                                                                                                                                                                                                                                                                                                                                                                                                                                                                                                                                                                                                                                                                                                                                                                                                                                                                                                                                                                                                                                                                                                                                                                                                                                                                                                                                                                                                                                                                                                                                                                                                                                                                                                                                                                                                                                                                                                                                                                                                                                                                                                                                                                                                                                                                                                                                                                                                                                                                                                                                                                                                                                                                                                                                                                                                                                                                                                                                                                                                                                                                                                                                                                                                                                                                                                                                                                                                                                                                                                                                                                                                                                                                                                                                                                                                                                                                                                                                                                                                                                                                                                                                                                                                                                                                                                                                                                                                                                                                                                                                                                                                                                                                                                                                                                                                                                                                                                                                                                                                                                                                                                                                                                                                                                                                                                                                                                                                                                                                                                                                                                                                                                                                                                                                                                                                                                                                                                                                                                                                                                                                                                                                                                                                                                                                                                                                                                                                                                                                                                                                                                                                                                                                                                                                                                                                                                                                                                                                                                                                                                                                                                                                                                                                                                                                                                                                                                                                                                                                                                                                                                                                                                                                                                                                                                                                                                                                                                                                                                                                                                                                                                                                                                                                                                                                                                                                                                                                                                                                                                                                                                                                                                                                                                                                                                                                                                                                                                                                                                                                                                                                                                                                                                                                                                                                                                                                                                                                                                                                                                                                                                                                                                                                                                                                                                                                                                                                                                                                                                                                                                                                                                                                                                                                                                                                                                                                                                                                                                                                                                                                                                                                                                                                                                                                                                                                                                                                                                                                                                                                                                                                                                                                                                                                                                                                                                                                                                                                                                                                                                                                                                                                                                                                                                                                                                                                                                                                                                                                                                                                                                                                                                                                                                                                                                                                                                                                                                                                                                                                                                                                                                                                                                                                                                                                                                                                                                                                                                                                                                                                                                                                                                                                                                                                                                                                                                                                                                                                                                                                                                                                                                                                                                                                                                                                                                                                                                                                                                                                                                                                                                                                                                                                                                                                                                                                                                                                                                                                                                                                                                                                                                                                                                                                                                                                                                                                                                                                                                                                                                                                                                                                                                                                                                                                                                                                                                                                                                                                                                                                                                                                                                                                                                                                                                                                                                                                                                                                                                                                                                                                                                                                                                                                                                                                                                                                                                                                                                                                                                                                                                                                                                                                                                                                                                                                                                                                                                                                                                                                                                                                                                                                                                                                                                                                                                                                                                                                                                                                                                                                                                                                                                                                                                                                                                                                                                                                                                                                                                                                                                                                                                                                                                                                                                                                                                                                                                                                                                                                                                                                                                                                                                                                                                                                                                                                                                                                                                                                                                                                                                                                                                                                                                                                                                                                                                                                                                                                                                                                                                                                                                                                                                                                                                                                                                                                                                                                                                                                                                                                                                                                                                                                                                                                                                                                                                                                                                                                                                                                                                                                                                                                                                                                                                                                                                                                                                                                                                                                                                                                                                                                                                                                                                                                                                                                                                                                                                                                                                                                                                                                                                                                                                                                                                                                                                                                                                                                                                                                                                                                                                                                                                                                                                                                                                                                                                                                                                                                                                                                                                                                                                                                                                                                                                                                                                                print(split_lines)\n",
    "            column=(split_lines[0])\n",
    "            #print(column)\n",
    "            if column.startswith('-'):\n",
    "                break\n",
    "            #print(type(column))\n",
    "            #field=''.join(column)\n",
    "            gene_list.append(column)  \n",
    "print(gene_list)"
   ]
  },
  {
   "cell_type": "code",
   "execution_count": 12,
   "metadata": {},
   "outputs": [],
   "source": [
    "#function\n",
    "#genelist=[]\n",
    "def gene_names():\n",
    "    with open('../Data/humchrx.txt', 'r') as myfile:\n",
    "        with open('../Data/genenames.txt', 'w') as myfile2:\n",
    "            file=myfile.readlines()\n",
    "            #print(file)\n",
    "            for x,line in enumerate(file):\n",
    "                #print(x,line)\n",
    "                if x > 35:\n",
    "                    split_lines=line.split()\n",
    "                    column=split_lines[0]\n",
    "                    if column.startswith('-'):\n",
    "                        break\n",
    "                    #print(column)\n",
    "                    #field=''.join(column)\n",
    "                    #gene_list.append(field)\n",
    "                    #print(field)\n",
    "                    myfile2.write(f'{column}\\n' )\n",
    "gene_names()"
   ]
  },
  {
   "cell_type": "code",
   "execution_count": null,
   "metadata": {},
   "outputs": [],
   "source": [
    "def gene_names(gene_file,gene_names)\n",
    "    with open(gene_file, 'r') as myfile:\n",
    "        with open(gene_names, 'w') as myfile2:\n",
    "            file=myfile.readlines()\n",
    "            #print(file)\n",
    "            for x,line in enumerate(file):\n",
    "                #print(x,line)\n",
    "                if x > 35:\n",
    "                    split_lines=line.split()\n",
    "                    column=split_lines[0]\n",
    "                    if column.startswith('-'):\n",
    "                        break\n",
    "                    myfile2.write(f'{column}\\n' )"
   ]
  },
  {
   "cell_type": "code",
   "execution_count": 22,
   "metadata": {},
   "outputs": [
    {
     "ename": "NameError",
     "evalue": "name 'null' is not defined",
     "output_type": "error",
     "traceback": [
      "\u001b[0;31m---------------------------------------------------------------------------\u001b[0m",
      "\u001b[0;31mNameError\u001b[0m                                 Traceback (most recent call last)",
      "\u001b[0;32m/tmp/ipykernel_4733/2293797071.py\u001b[0m in \u001b[0;36m<module>\u001b[0;34m\u001b[0m\n\u001b[0;32m----> 1\u001b[0;31m \u001b[0;32mfrom\u001b[0m \u001b[0mmodules\u001b[0m\u001b[0;34m.\u001b[0m\u001b[0mmodule\u001b[0m \u001b[0;32mimport\u001b[0m \u001b[0mgene_names\u001b[0m\u001b[0;34m\u001b[0m\u001b[0;34m\u001b[0m\u001b[0m\n\u001b[0m",
      "\u001b[0;32m~/eanbit_cohort4/programming/Python/Python4BioinformaticsV2/Notebooks/modules/module.py\u001b[0m in \u001b[0;36m<module>\u001b[0;34m\u001b[0m\n\u001b[1;32m      3\u001b[0m   {\n\u001b[1;32m      4\u001b[0m    \u001b[0;34m\"cell_type\"\u001b[0m\u001b[0;34m:\u001b[0m \u001b[0;34m\"code\"\u001b[0m\u001b[0;34m,\u001b[0m\u001b[0;34m\u001b[0m\u001b[0;34m\u001b[0m\u001b[0m\n\u001b[0;32m----> 5\u001b[0;31m    \u001b[0;34m\"execution_count\"\u001b[0m\u001b[0;34m:\u001b[0m \u001b[0mnull\u001b[0m\u001b[0;34m,\u001b[0m\u001b[0;34m\u001b[0m\u001b[0;34m\u001b[0m\u001b[0m\n\u001b[0m\u001b[1;32m      6\u001b[0m    \u001b[0;34m\"id\"\u001b[0m\u001b[0;34m:\u001b[0m \u001b[0;34m\"c812a517-a782-4638-bcbb-7eee8c8cf4f8\"\u001b[0m\u001b[0;34m,\u001b[0m\u001b[0;34m\u001b[0m\u001b[0;34m\u001b[0m\u001b[0m\n\u001b[1;32m      7\u001b[0m    \u001b[0;34m\"metadata\"\u001b[0m\u001b[0;34m:\u001b[0m \u001b[0;34m{\u001b[0m\u001b[0;34m}\u001b[0m\u001b[0;34m,\u001b[0m\u001b[0;34m\u001b[0m\u001b[0;34m\u001b[0m\u001b[0m\n",
      "\u001b[0;31mNameError\u001b[0m: name 'null' is not defined"
     ]
    }
   ],
   "source": [
    "from modules.module import gene_names\n"
   ]
  },
  {
   "cell_type": "code",
   "execution_count": 44,
   "metadata": {},
   "outputs": [
    {
     "name": "stdout",
     "output_type": "stream",
     "text": [
      "['ABCB7', 'ABCD1', 'ACE2', 'ACOT9', 'ACSL4', 'ACTRT1', 'ADGRG2', 'ADGRG4', 'AFF2', 'AGTR2', 'AIFM1', 'AKAP14', 'AKAP17A', 'AKAP4', 'ALAS2', 'ALG13', 'AMELX', 'AMER1', 'AMMECR1', 'AMOT', 'ANOS1', 'AP1S2', 'APEX2', 'APLN', 'APOO', 'APOOL', 'AR', 'ARAF', 'ARHGAP36', 'ARHGAP4', 'ARHGAP6', 'ARHGEF6', 'ARHGEF9', 'ARL13A', 'ARMCX1', 'ARMCX2', 'ARMCX3', 'ARMCX4', 'ARMCX5', 'ARMCX6', 'ARR3', 'ARSD', 'ARSE', 'ARSF', 'ARSH', 'ARX', 'ASB11', 'ASB12', 'ASB9', 'ASMT', 'ASMTL', 'ATG4A', 'ATP11C', 'ATP1B4', 'ATP2B3', 'ATP6AP1', 'ATP6AP2', 'ATP7A', 'ATRX', 'ATXN3L', 'AVPR2', 'AWAT1', 'AWAT2', 'BCAP31', 'BCLAF3', 'BCOR', 'BCORL1', 'BEND2', 'BEX1', 'BEX2', 'BEX3', 'BEX4', 'BEX5', 'BGN', 'BHLHB9', 'BMP15', 'BMP2KL', 'BMX', 'BRCC3', 'BRS3', 'BRWD3', 'BTK', 'C1GALT1C1', 'CA5B', 'CA5BP1', 'CACNA1F', 'CAPN6', 'CASK', 'CBLL2', 'CCDC120', 'CCDC160', 'CCDC22', 'CCNB3', 'CCNQ', 'CD40LG', 'CD99', 'CD99L2', 'CDK16', 'CDKL5', 'CDR1', 'CDX4', 'CENPI', 'CENPVL1', 'CENPVL2', 'CENPVL3', 'CETN2', 'CFAP47', 'CFP', 'CHIC1', 'CHM', 'CHRDL1', 'CHST7', 'CITED1', 'CLCN4', 'CLCN5', 'CLDN2', 'CLDN34', 'CLIC2', 'CLTRN', 'CMC4', 'CNGA2', 'CNKSR2', 'COL4A5', 'COL4A6', 'COX7B', 'CPXCR1', 'CRLF2', 'CSAG1', 'CSAG2', 'CSAG3', 'CSF2RA', 'CSTF2', 'CT45A1', 'CT45A10', 'CT45A2', 'CT45A3', 'CT45A5', 'CT45A6', 'CT45A7', 'CT45A8', 'CT45A9', 'CT47A1', 'CT47A10', 'CT47A11', 'CT47A12', 'CT47A2', 'CT47A3', 'CT47A4', 'CT47A5', 'CT47A6', 'CT47A7', 'CT47A8', 'CT47A9', 'CT47B1', 'CT55', 'CT83', 'CTAG1A', 'CTAG1B', 'CTAG2', 'CTPS2', 'CUL4B', 'CXCR3', 'CXorf1', 'CXorf21', 'CXorf38', 'CXorf40A', 'CXorf40B', 'CXorf49', 'CXorf49B', 'CXorf51A', 'CXorf51B', 'CXorf56', 'CXorf58', 'CXorf65', 'CXorf66', 'CXorf67', 'CYBB', 'CYLC1', 'CYSLTR1', 'DACH2', 'DCAF12L1', 'DCAF12L2', 'DCAF8L1', 'DCAF8L2', 'DCX', 'DDX3X', 'DDX53', 'DGAT2L6', 'DGKK', 'DHRSX', 'DIAPH2', 'DIAPH2-AS1', 'DIPK2B', 'DKC1', 'DLG3', 'DMD', 'DMRTC1', 'DMRTC1B', 'DNASE1L1', 'DOCK11', 'DRP2', 'DUSP21', 'DUSP9', 'DYNLT3', 'EBP', 'EDA', 'EDA2R', 'EFHC2', 'EFNB1', 'EGFL6', 'EIF1AX', 'EIF2S3', 'ELF4', 'ELK1', 'EMD', 'ENOX2', 'ERAS', 'ERCC6L', 'ERVFC1', 'ESX1', 'ETDA', 'ETDB', 'ETDC', 'F8', 'F8A1', 'F8A2', 'F8A3', 'F9', 'FAAH2', 'FAM104B', 'FAM120C', 'FAM122B', 'FAM122C', 'FAM133A', 'FAM155B', 'FAM156A', 'FAM156B', 'FAM199X', 'FAM223A', 'FAM223B', 'FAM236A', 'FAM236B', 'FAM236C', 'FAM236D', 'FAM3A', 'FAM45BP', 'FAM47A', 'FAM47B', 'FAM47C', 'FAM47DP', 'FAM50A', 'FAM9A', 'FAM9B', 'FAM9C', 'FANCB', 'FATE1', 'FGD1', 'FGF13', 'FGF16', 'FHL1', 'FLNA', 'FMR1', 'FMR1NB', 'FOXO4', 'FOXP3', 'FOXR2', 'FRMD7', 'FRMD8P1', 'FRMPD3', 'FRMPD4', 'FTH1P19', 'FTHL17', 'FTSJ1', 'FUNDC1', 'FUNDC2', 'FXYD6P3', 'G6PD', 'GAB3', 'GABRA3', 'GABRE', 'GABRQ', 'GAGE1', 'GAGE10', 'GAGE12B', 'GAGE12C', 'GAGE12D', 'GAGE12E', 'GAGE12F', 'GAGE12G', 'GAGE12H', 'GAGE12I', 'GAGE12J', 'GAGE13', 'GAGE2A', 'GAGE2B', 'GAGE2C', 'GAGE2D', 'GAGE2E', 'GAGE4', 'GAGE5', 'GAGE6', 'GAGE7', 'GAGE8', 'GATA1', 'GCNA', 'GDI1', 'GDPD2', 'GEMIN8', 'GJB1', 'GK', 'GLA', 'GLOD5', 'GLRA2', 'GLRA4', 'GLUD2', 'GNL3L', 'GPC3', 'GPC4', 'GPKOW', 'GPM6B', 'GPR101', 'GPR119', 'GPR143', 'GPR173', 'GPR174', 'GPR34', 'GPR50', 'GPR82', 'GPRASP1', 'GPRASP2', 'GRIA3', 'GRIPAP1', 'GRPR', 'GSPT2', 'GTPBP6', 'GUCY2F', 'GYG2', 'H2AFB1', 'H2AFB2', 'H2AFB3', 'H2BFM', 'H2BFWT', 'HAUS7', 'HCCS', 'HCFC1', 'HDAC6', 'HDAC8', 'HDX', 'HEPH', 'HMGB3', 'HMGN5', 'HNRNPH2', 'HPRT1', 'HS6ST2', 'HSD17B10', 'HSFX1', 'HSFX2', 'HSFX3', 'HSFX4', 'HTATSF1', 'HTR2C', 'HUWE1', 'HYPM', 'IDH3G', 'IDS', 'IGBP1', 'IGSF1', 'IKBKG', 'IL13RA1', 'IL13RA2', 'IL1RAPL1', 'IL1RAPL2', 'IL2RG', 'IL3RA', 'IL9R', 'INE1', 'INTS6L', 'IQSEC2', 'IRAK1', 'IRS4', 'ITGB1BP2', 'ITIH6', 'ITM2A', 'JADE3', 'KCND1', 'KCNE5', 'KDM5C', 'KDM6A', 'KIAA1210', 'KIF4A', 'KLF8', 'KLHL13', 'KLHL15', 'KLHL34', 'KLHL4', 'KRBOX4', 'L1CAM', 'LAGE3', 'LAMP2', 'LANCL3', 'LAS1L', 'LCA10', 'LDOC1', 'LHFPL1', 'LINC00269', 'LINC01545', 'LINC01546', 'LINC01560', 'LONRF3', 'LPAR4', 'LRCH2', 'LUZP4', 'MAGEA1', 'MAGEA10', 'MAGEA11', 'MAGEA12', 'MAGEA13P', 'MAGEA2', 'MAGEA2B', 'MAGEA3', 'MAGEA4', 'MAGEA5', 'MAGEA6', 'MAGEA8', 'MAGEA9', 'MAGEA9B', 'MAGEB1', 'MAGEB10', 'MAGEB16', 'MAGEB17', 'MAGEB18', 'MAGEB2', 'MAGEB3', 'MAGEB4', 'MAGEB5', 'MAGEB6', 'MAGEC1', 'MAGEC2', 'MAGEC3', 'MAGED1', 'MAGED2', 'MAGED4', 'MAGED4B', 'MAGEE1', 'MAGEE2', 'MAGEH1', 'MAGIX', 'MAGT1', 'MAMLD1', 'MAOA', 'MAOB', 'MAP3K15', 'MAP7D2', 'MAP7D3', 'MBNL3', 'MBTPS2', 'MCF2', 'MCTS1', 'MECP2', 'MED12', 'MED14', 'MED14OS', 'MID1', 'MID1IP1', 'MID2', 'MKRN4P', 'MMGT1', 'MORC4', 'MORF4L2', 'MOSPD1', 'MOSPD2', 'MPC1L', 'MPP1', 'MSL3', 'MSN', 'MTCP1', 'MTM1', 'MTMR1', 'MTMR8', 'MTRNR2L10', 'MXRA5', 'MYCLP1', 'NAA10', 'NAP1L2', 'NAP1L3', 'NAP1L6', 'NBDY', 'NCBP2L', 'NDP', 'NDUFA1', 'NDUFB11', 'NEXMIF', 'NHS', 'NHSL2', 'NKAP', 'NKAPP1', 'NKRF', 'NLGN3', 'NLGN4X', 'NLRP2B', 'NONO', 'NOX1', 'NR0B1', 'NRK', 'NSDHL', 'NUDT10', 'NUDT11', 'NUP62CL', 'NXF2', 'NXF2B', 'NXF3', 'NXF5', 'NXT2', 'NYX', 'OCRL', 'OFD1', 'OGT', 'OPHN1', 'OPN1LW', 'OPN1MW', 'OPN1MW2', 'OPN1MW3', 'OR13H1', 'OTC', 'OTUD5', 'OTUD6A', 'P2RY10', 'P2RY4', 'P2RY8', 'PABPC1L2A', 'PABPC1L2B', 'PABPC5', 'PAGE1', 'PAGE2', 'PAGE2B', 'PAGE3', 'PAGE4', 'PAGE5', 'PAK3', 'PASD1', 'PBDC1', 'PCDH11X', 'PCDH19', 'PCSK1N', 'PCYT1B', 'PDHA1', 'PDK3', 'PDZD11', 'PDZD4', 'PFKFB1', 'PGAM4', 'PGK1', 'PGRMC1', 'PHEX', 'PHF6', 'PHF8', 'PHKA1', 'PHKA2', 'PIGA', 'PIH1D3', 'PIM2', 'PIN4', 'PIR', 'PJA1', 'PLAC1', 'PLCXD1', 'PLP1', 'PLP2', 'PLS3', 'PLXNA3', 'PLXNB3', 'PNCK', 'PNMA3', 'PNMA5', 'PNMA6A', 'PNMA6E', 'PNMA6F', 'PNPLA4', 'POF1B', 'POLA1', 'PORCN', 'POU3F4', 'PPEF1', 'PPP1R2C', 'PPP1R3F', 'PPP2R3B', 'PPP4R3C', 'PQBP1', 'PRAF2', 'PRDX4', 'PRICKLE3', 'PRKX', 'PRPS1', 'PRPS2', 'PRR32', 'PRRG1', 'PRRG3', 'PSMD10', 'PTCHD1', 'PUDP', 'PWWP3B', 'PYY3', 'RAB33A', 'RAB39B', 'RAB40A', 'RAB40AL', 'RAB41', 'RAB9A', 'RAB9B', 'RADX', 'RAI2', 'RAP2C', 'RBBP7', 'RBM10', 'RBM3', 'RBM41', 'RBMX', 'RBMX2', 'RBMXL3', 'RENBP', 'REPS2', 'RGN', 'RHOXF1', 'RHOXF2', 'RHOXF2B', 'RIBC1', 'RIPPLY1', 'RLIM', 'RNF113A', 'RNF128', 'RP2', 'RPA4', 'RPGR', 'RPL10', 'RPL36A', 'RPL39', 'RPL9P7', 'RPS26P11', 'RPS4X', 'RPS6KA3', 'RPS6KA6', 'RRAGB', 'RS1', 'RTL3', 'RTL4', 'RTL5', 'RTL8A', 'RTL8B', 'RTL8C', 'RTL8C', 'RTL9', 'S100G', 'SAGE1', 'SAGE2P', 'SASH3', 'SAT1', 'SATL1', 'SCML1', 'SCML2', 'SEPT6', 'SERPINA7', 'SERTM2', 'SH2D1A', 'SH3BGRL', 'SH3KBP1', 'SHOX', 'SHROOM2', 'SHROOM4', 'SLC10A3', 'SLC16A2', 'SLC25A14', 'SLC25A43', 'SLC25A5', 'SLC25A53', 'SLC25A6', 'SLC35A2', 'SLC38A5', 'SLC6A14', 'SLC6A8', 'SLC7A3', 'SLC9A6', 'SLC9A7', 'SLITRK2', 'SLITRK4', 'SMARCA1', 'SMC1A', 'SMIM10', 'SMIM10L2A', 'SMIM10L2B', 'SMIM9', 'SMPX', 'SMS', 'SNURFL', 'SNX12', 'SOWAHD', 'SOX3', 'SPACA5', 'SPACA5B', 'SPANXA1', 'SPANXA2', 'SPANXA2-OT1Xq27.2', 'SPANXB1', 'SPANXC', 'SPANXD', 'SPANXN1', 'SPANXN2', 'SPANXN3', 'SPANXN4', 'SPANXN5', 'SPIN2A', 'SPIN2B', 'SPIN3', 'SPIN4', 'SPRY3', 'SRPK3', 'SRPX', 'SRPX2', 'SSR4', 'SSX1', 'SSX2', 'SSX2B', 'SSX3', 'SSX4', 'SSX4B', 'SSX5', 'SSX6P', 'SSX7', 'SSX8P', 'SSX9P', 'STAG2', 'STARD8', 'STK26', 'STS', 'SUPT20HL1', 'SUPT20HL2', 'SUV39H1', 'SYAP1', 'SYN1', 'SYP', 'SYTL4', 'SYTL5', 'TAB3', 'TAF1', 'TAF7L', 'TAF9B', 'TAZ', 'TBC1D25', 'TBC1D8B', 'TBL1X', 'TBX22', 'TCEAL1', 'TCEAL2', 'TCEAL3', 'TCEAL4', 'TCEAL5', 'TCEAL6', 'TCEAL7', 'TCEAL8', 'TCEAL9', 'TCEANC', 'TCP11X1', 'TCP11X2', 'TDGF1P3', 'TENM1', 'TENT5D', 'TEX11', 'TEX13A', 'TEX13B', 'TEX13C', 'TEX13D', 'TEX28', 'TEX28P1', 'TEX28P2', 'TFDP3', 'TFE3', 'TGIF2LX', 'THOC2', 'TIMM17B', 'TIMM8A', 'TIMP1', 'TKTL1', 'TLR7', 'TLR8', 'TMEM164', 'TMEM185A', 'TMEM187', 'TMEM255A', 'TMEM31', 'TMEM35A', 'TMEM47', 'TMLHE', 'TMSB15A', 'TMSB15B', 'TMSB4X', 'TNMD', 'TRAPPC2', 'TREX2', 'TRMT2B', 'TRO', 'TRPC5', 'TRPC5OS', 'TSC22D3', 'TSPAN6', 'TSPAN7', 'TSPYL2', 'TSR2', 'TXLNG', 'UBA1', 'UBE2A', 'UBE2DNL', 'UBE2NL', 'UBL4A', 'UBQLN2', 'UPF3B', 'UPRT', 'USP11', 'USP26', 'USP27X', 'USP51', 'USP9X', 'UTP14A', 'UXT', 'VAMP7', 'VBP1', 'VCX', 'VCX2', 'VCX3A', 'VCX3B', 'VEGFD', 'VENTXP1', 'VGLL1', 'VMA21', 'VSIG1', 'VSIG4', 'WAS', 'WASH6P', 'WDR13', 'WDR44', 'WDR45', 'WNK3', 'WWC3', 'XAGE1A', 'XAGE1B', 'XAGE1C', 'XAGE1D', 'XAGE1E', 'XAGE2', 'XAGE3', 'XAGE5', 'XG', 'XIAP', 'XK', 'XKRX', 'XPNPEP2', 'YIPF6', 'YY2', 'ZBED1', 'ZBTB33', 'ZC3H12B', 'ZC4H2', 'ZCCHC12', 'ZCCHC13', 'ZCCHC18', 'ZDHHC15', 'ZDHHC9', 'ZFP92', 'ZFX', 'ZIC3', 'ZMAT1', 'ZMYM3', 'ZNF157', 'ZNF182', 'ZNF185', 'ZNF275', 'ZNF280C', 'ZNF41', 'ZNF449', 'ZNF630', 'ZNF674', 'ZNF711', 'ZNF75D', 'ZNF81', 'ZRSR2', 'ZXDA', 'ZXDB']\n"
     ]
    }
   ],
   "source": [
    "print(gene_list)"
   ]
  },
  {
   "cell_type": "markdown",
   "metadata": {},
   "source": [
    "### Scripts and Modules\n",
    "\n",
    "A script is a file containing Python definitions and statements for performing some analysis. Scripts are known as when they are intended for use in other Python programs. Many Python modules come with Python as part of the standard library. \n",
    "\n",
    "You can get a list of available modules using help() and explore them."
   ]
  },
  {
   "cell_type": "markdown",
   "metadata": {},
   "source": [
    "### Writing you own modules\n",
    "\n",
    "All we need to do to create our own modules is to save our script as a file with a `.py` extension. Suppose, for example, this script is saved as a file named `seqtools.py`.\n",
    "\n",
    "```python\n",
    "def remove_at(pos, seq):\n",
    "    return seq[:pos] + seq[pos+1:]```\n",
    "    \n",
    "We can import the module as:"
   ]
  },
  {
   "cell_type": "code",
   "execution_count": 11,
   "metadata": {},
   "outputs": [],
   "source": [
    "import seqtools"
   ]
  },
  {
   "cell_type": "code",
   "execution_count": 12,
   "metadata": {},
   "outputs": [
    {
     "data": {
      "text/plain": [
       "'A sting!'"
      ]
     },
     "execution_count": 12,
     "metadata": {},
     "output_type": "execute_result"
    }
   ],
   "source": [
    "s = \"A string!\"\n",
    "seqtools.remove_at(4,s)"
   ]
  },
  {
   "cell_type": "code",
   "execution_count": 13,
   "metadata": {},
   "outputs": [
    {
     "data": {
      "text/plain": [
       "'23000'"
      ]
     },
     "execution_count": 13,
     "metadata": {},
     "output_type": "execute_result"
    }
   ],
   "source": [
    "'23,000,'.replace(',','')"
   ]
  },
  {
   "cell_type": "markdown",
   "metadata": {},
   "source": [
    "Modules are useful when you want to analyse large data using the HPC or even create your library of handy functions. \n",
    "\n",
    "#### Running scripts\n",
    "\n",
    "When you have put your commands into a .py file, you can execute on the command line by invoking the Python interpreter using `python script.py.`"
   ]
  },
  {
   "cell_type": "markdown",
   "metadata": {},
   "source": [
    "### Exercise 2\n",
    "\n",
    "1. Convert the function you wrote in exercise 1 into a python module. Then, import the module and use the function to read `humchrx.txt` file and create a gene list file.\n",
    "2. Create a stand-alone script that does all the above.\n",
    "\n",
    "\n",
    "### Script that takes command line arguments\n",
    "So far, we can create a script that does one thing. In this case, you have to edit the script if you have a new gene file to analyse or you want to use a different name for the output file.\n",
    "\n",
    "#### sys.argv\n",
    "sys.argv is a list in Python, which contains the command line arguments passed to the script. Lets add this to a script `sysargv.py` and run on the command line. \n",
    "\n",
    "```python\n",
    "import sys\n",
    "print(\"This is the name of the script: \", sys.argv[0])\n",
    "print(\"Number of arguments: \", len(sys.argv))\n",
    "print(\"The arguments are: \" , str(sys.argv))```"
   ]
  },
  {
   "cell_type": "code",
   "execution_count": 14,
   "metadata": {},
   "outputs": [
    {
     "name": "stdout",
     "output_type": "stream",
     "text": [
      "This is the name of the script:  sysargv.py\n",
      "Number of arguments:  2\n",
      "The arguments are:  ['sysargv.py', 'test']\n"
     ]
    }
   ],
   "source": [
    "!python sysargv.py test"
   ]
  },
  {
   "cell_type": "markdown",
   "metadata": {},
   "source": [
    "### Exercise 3\n",
    "\n",
    "- Using the same concept, convert your script in exercise 1 to take command line arguments (input and output files)\n",
    "- Using a DNA sequence read from file, answer the following questions:\n",
    "    1. Show that the DNA string contains only four letters.\n",
    "    2. In the DNA string there are regions that have a repeating letter. What is the letter and length of the longest repeating region?\n",
    "    3. How many ’ATG’s are in the DNA string?"
   ]
  },
  {
   "cell_type": "markdown",
   "metadata": {},
   "source": [
    "### File handling, OS module, Shutil and Path modules\n",
    "\n",
    "Python can also interface directly with the Linux operating system using the **os**, **Shutil** and **path** modules.\n",
    "\n",
    "First, let's import the OS module"
   ]
  },
  {
   "cell_type": "code",
   "execution_count": 15,
   "metadata": {},
   "outputs": [],
   "source": [
    "import os"
   ]
  },
  {
   "cell_type": "code",
   "execution_count": 16,
   "metadata": {},
   "outputs": [
    {
     "data": {
      "text/plain": [
       "'/home/user/Python4Bioinformatics/Intro-to-Python'"
      ]
     },
     "execution_count": 16,
     "metadata": {},
     "output_type": "execute_result"
    }
   ],
   "source": [
    "os.getcwd()"
   ]
  },
  {
   "cell_type": "code",
   "execution_count": 17,
   "metadata": {},
   "outputs": [],
   "source": [
    "os.chdir('..')"
   ]
  },
  {
   "cell_type": "code",
   "execution_count": 18,
   "metadata": {},
   "outputs": [
    {
     "data": {
      "text/plain": [
       "'/home/user/Python4Bioinformatics'"
      ]
     },
     "execution_count": 18,
     "metadata": {},
     "output_type": "execute_result"
    }
   ],
   "source": [
    "os.getcwd()"
   ]
  },
  {
   "cell_type": "code",
   "execution_count": 19,
   "metadata": {},
   "outputs": [],
   "source": [
    "os.chdir('INotebooks/')"
   ]
  },
  {
   "cell_type": "code",
   "execution_count": 20,
   "metadata": {},
   "outputs": [],
   "source": [
    "?os"
   ]
  },
  {
   "cell_type": "code",
   "execution_count": 21,
   "metadata": {},
   "outputs": [
    {
     "data": {
      "text/plain": [
       "['execution.png',\n",
       " '05.ipynb',\n",
       " 'genelist.py',\n",
       " 'seqtools.py',\n",
       " '03.ipynb',\n",
       " '00.ipynb',\n",
       " '09.ipynb',\n",
       " '04.ipynb',\n",
       " '02.ipynb',\n",
       " 'bank.py',\n",
       " 'pythonscripts.py',\n",
       " '07.ipynb',\n",
       " '__pycache__',\n",
       " '08.ipynb',\n",
       " '.ipynb_checkpoints',\n",
       " '06.ipynb',\n",
       " 'dnatools.py',\n",
       " '01.ipynb',\n",
       " 'sysargv.py']"
      ]
     },
     "execution_count": 21,
     "metadata": {},
     "output_type": "execute_result"
    }
   ],
   "source": [
    "os.listdir()"
   ]
  },
  {
   "cell_type": "code",
   "execution_count": 22,
   "metadata": {},
   "outputs": [
    {
     "data": {
      "text/plain": [
       "False"
      ]
     },
     "execution_count": 22,
     "metadata": {},
     "output_type": "execute_result"
    }
   ],
   "source": [
    "os.path.isdir('../Scripts/bank.py')"
   ]
  },
  {
   "cell_type": "code",
   "execution_count": 23,
   "metadata": {},
   "outputs": [
    {
     "data": {
      "text/plain": [
       "True"
      ]
     },
     "execution_count": 23,
     "metadata": {},
     "output_type": "execute_result"
    }
   ],
   "source": [
    "os.path.isfile('../Scripts/bank.py')"
   ]
  },
  {
   "cell_type": "markdown",
   "metadata": {},
   "source": [
    "### path manipulation\n",
    "The path module inside the os module contains methods related with path manipulation.For example you can use `path.join()` to join paths. \n",
    "- `path.exists(path):` Checks if a given path exists.\n",
    "- `path.split(path):` Returns a tuple splitting the file or directory name at the end and the rest of the path\n",
    "- `path.splitext(path):` Splits out the extension of a file. It returns a tuple with the dotted extension and the original parameter up to the dot.\n",
    "- `path.join(directory1,directory2,...)`: Join two or more path name components, inserting the operating system path separator as needed"
   ]
  },
  {
   "cell_type": "code",
   "execution_count": 24,
   "metadata": {},
   "outputs": [],
   "source": [
    "?os.path.join()"
   ]
  },
  {
   "cell_type": "markdown",
   "metadata": {},
   "source": [
    "Explore more at your own time.\n",
    "\n",
    "### Shutil\n",
    "Utility functions for copying and archiving files and directory trees."
   ]
  },
  {
   "cell_type": "code",
   "execution_count": 25,
   "metadata": {},
   "outputs": [],
   "source": [
    "import shutil"
   ]
  },
  {
   "cell_type": "code",
   "execution_count": 26,
   "metadata": {},
   "outputs": [],
   "source": [
    "?shutil"
   ]
  }
 ],
 "metadata": {
  "kernelspec": {
   "display_name": "Python 3 (ipykernel)",
   "language": "python",
   "name": "python3"
  },
  "language_info": {
   "codemirror_mode": {
    "name": "ipython",
    "version": 3
   },
   "file_extension": ".py",
   "mimetype": "text/x-python",
   "name": "python",
   "nbconvert_exporter": "python",
   "pygments_lexer": "ipython3",
   "version": "3.8.10"
  }
 },
 "nbformat": 4,
 "nbformat_minor": 4
}
