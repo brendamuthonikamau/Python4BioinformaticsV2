{
 "cells": [
  {
   "cell_type": "markdown",
   "id": "8f846b6f-d631-4bf3-a452-8dfac4253d15",
   "metadata": {
    "tags": []
   },
   "source": [
    "## Exercise_notebook2"
   ]
  },
  {
   "cell_type": "code",
   "execution_count": 207,
   "id": "4db8fc50-27ff-4797-9eaf-423f2bdf4b28",
   "metadata": {},
   "outputs": [
    {
     "name": "stdout",
     "output_type": "stream",
     "text": [
      " The percentage is 43.48%\n",
      " The percentage is 56.52%\n"
     ]
    }
   ],
   "source": [
    "#Calculate the % GC and % AT content in the trna sequence\n",
    "trna='AAGGGCTTAGCTTAATTAAAGTGGCTGATTTGCGTTCAGTTGATGCAGAGTGGGGTTTTGCAGTCCTTA'\n",
    "def percent_gc(dna,*args):\n",
    "    percent=((dna.count('G')+dna.count('C'))/len(dna) *100)\n",
    "    percent1=((dna.count('A')+dna.count('T'))/len(dna) *100)\n",
    "    return print(' The percentage is %.2f%s%s' % (percent,'%','\\n'),'The percentage is %.2f%s'%(percent1,'%'))\n",
    "percent_gc(trna)"
   ]
  },
  {
   "cell_type": "code",
   "execution_count": 71,
   "id": "942f70a4-39c0-45f9-885a-2303b9156e88",
   "metadata": {},
   "outputs": [],
   "source": [
    "## Exercise 2"
   ]
  },
  {
   "cell_type": "markdown",
   "id": "34da5421-9e81-4574-b32b-57ba85cea24e",
   "metadata": {},
   "source": [
    "## Given the following amino acid sequence (MNKMDLVADVAEKTDLSKAKATEVIDAVFA), find the first, last and the 5th amino acids in the sequence."
   ]
  },
  {
   "cell_type": "code",
   "execution_count": 140,
   "id": "4da67df1-0d5e-4d33-bf3b-19a4874dc511",
   "metadata": {},
   "outputs": [
    {
     "name": "stdout",
     "output_type": "stream",
     "text": [
      "M\n",
      "D\n",
      "A\n"
     ]
    }
   ],
   "source": [
    "\n",
    "amino_acid='MNKMDLVADVAEKTDLSKAKATEVIDAVFA'\n",
    "def aa(x):\n",
    "    print(x[0],x[4],x[-1],sep='\\n')\n",
    "aa(amino_acid)"
   ]
  },
  {
   "cell_type": "markdown",
   "id": "1513b692-ecc8-4fdc-b750-50918b15931c",
   "metadata": {},
   "source": [
    "## above amino acid is a bacterial restriction enzyme that recognizes \"TCCGGA\".## Find the first restriction site in the following sequence: AAAAATCCCGAGGCGGCTATATAGGGCTCCGGAGGCGTAATATAAAA"
   ]
  },
  {
   "cell_type": "code",
   "execution_count": 175,
   "id": "51791e9f-4976-47d9-a54c-f60620c2aa2e",
   "metadata": {},
   "outputs": [
    {
     "data": {
      "text/plain": [
       "(27, 33)"
      ]
     },
     "execution_count": 175,
     "metadata": {},
     "output_type": "execute_result"
    }
   ],
   "source": [
    "##The above amino acid is a bacterial restriction enzyme that recognizes \"TCCGGA\". Find the first restriction site in the following sequence: AAAAATCCCGAGGCGGCTATATAGGGCTCCGGAGGCGTAATATAAAA\n",
    "dna_seq='AAAAATCCCGAGGCGGCTATATAGGGCTCCGGAGGCGTAATATAAAA'\n",
    "def restriction_site(x):\n",
    "    restrict_enzy='TCCGGA'\n",
    "    rest_pos=x.find(restrict_enzy)\n",
    "    end=rest_pos+len(restrict_enzy)\n",
    "    return(rest_pos,end)\n",
    "restriction_site(dna_seq)"
   ]
  },
  {
   "cell_type": "markdown",
   "id": "899b0844-e4f4-45d3-baa8-3dcc5ad1d293",
   "metadata": {},
   "source": [
    "## Notebook_4\n",
    "Using strings, lists, tuples and dictionaries concepts, find the reverse complement of AAAAATCCCGAGGCGGCTATATAGGGCTCCGGAGGCGTAATATAAAA"
   ]
  },
  {
   "cell_type": "code",
   "execution_count": 149,
   "id": "2a633873-aaa4-42bb-ba4c-72aa64840369",
   "metadata": {},
   "outputs": [
    {
     "data": {
      "text/plain": [
       "'TTTTATATTACGCCTCCGGAGCCCTATATAGCCGCCTCGGGATTTTT'"
      ]
     },
     "execution_count": 149,
     "metadata": {},
     "output_type": "execute_result"
    }
   ],
   "source": [
    "# using lists\n",
    "dna='AAAAATCCCGAGGCGGCTATATAGGGCTCCGGAGGCGTAATATAAAA'\n",
    "def lis_fun():\n",
    "    reverse_dna=dna.replace('T','a').replace('A','t').replace('G','c').replace('C','g')\n",
    "    reverse_dna=reverse_dna[::-1]\n",
    "    reverse_dna=reverse_dna.upper()\n",
    "    return(reverse_dna)\n",
    "lis_fun()"
   ]
  },
  {
   "cell_type": "code",
   "execution_count": null,
   "id": "34b30fc9-9494-4962-9aa1-8de593bcc13a",
   "metadata": {},
   "outputs": [],
   "source": [
    "# Using conditionals"
   ]
  },
  {
   "cell_type": "code",
   "execution_count": 211,
   "id": "fbe9c8ee-464e-43a8-a28e-7542e46cb0db",
   "metadata": {},
   "outputs": [
    {
     "data": {
      "text/plain": [
       "'TTTTATATTACGCCTCCGGAGCCCTATATAGCCGCCTCGGGATTTTT'"
      ]
     },
     "execution_count": 211,
     "metadata": {},
     "output_type": "execute_result"
    }
   ],
   "source": [
    "\n",
    "comp_dna=[]\n",
    "def reverse_comp(dna_seq):\n",
    "    for base in dna_seq:\n",
    "        if base == ('T'):\n",
    "            comp_dna.append('A')\n",
    "        elif base == ('A'):\n",
    "            comp_dna.append('T')\n",
    "        elif base == ('G'):\n",
    "            comp_dna.append('C')\n",
    "        elif base == ('C'):\n",
    "            comp_dna.append('G')\n",
    "        else:\n",
    "            comp_dna.append(base)\n",
    "    comp_dna.reverse()  \n",
    "    y=''.join(comp_dna)\n",
    "    return(y)\n",
    "reverse_comp(dna)"
   ]
  },
  {
   "cell_type": "code",
   "execution_count": 2,
   "id": "e0e39447-d926-41da-812a-5399e3f2bec1",
   "metadata": {},
   "outputs": [
    {
     "data": {
      "text/plain": [
       "'CTTTTATATTACGCCTCCGGAGCCCTATATAGCCGCCTCGGGATTTTT'"
      ]
     },
     "execution_count": 3,
     "metadata": {},
     "output_type": "execute_result"
    }
   ],
   "source": [
    "# using dictionaries\n",
    "dna = 'AAAAATCCCGAGGCGGCTATATAGGGCTCCGGAGGCGTAATATAAAAG'\n",
    "def dict_func(seq):\n",
    "    dna_dict = {'A':'T', 'C':'G', 'G':'C', 'T':'A'}\n",
    "    rev_dna = ''\n",
    "    for seq in seq:\n",
    "        rev_dna = dna_dict[seq] + rev_dna\n",
    "    return(rev_dna)\n",
    "dict_func(dna)"
   ]
  },
  {
   "cell_type": "markdown",
   "id": "1f9342aa-3284-4b3e-81bc-e0e2941f25e7",
   "metadata": {},
   "source": [
    "## Notebook_5\n",
    "1. Create a while loop that starts with x = 0 and increments x until x is equal to 5. Each iteration should print to the console."
   ]
  },
  {
   "cell_type": "code",
   "execution_count": 255,
   "id": "f7baa10e-dac3-431b-b255-1e98e7967d39",
   "metadata": {},
   "outputs": [],
   "source": [
    "x=0\n",
    "def conditionals(x):\n",
    "    while x<=5:\n",
    "        print(x)\n",
    "        x+=1\n",
    "conditionals(0)"
   ]
  },
  {
   "cell_type": "code",
   "execution_count": null,
   "id": "b576c72e-16ef-4e78-96d6-20fd21da163e",
   "metadata": {},
   "outputs": [],
   "source": []
  },
  {
   "cell_type": "markdown",
   "id": "1768c72b-afb4-4b95-b53d-e6233657191b",
   "metadata": {},
   "source": [
    "2. Repeat the previous problem, but the loop will skip printing x = 5 to the console but will print values of x from 6 to 10.\n"
   ]
  },
  {
   "cell_type": "code",
   "execution_count": 1,
   "id": "d9866f25-1487-4ed7-aafa-3d39f5efb39d",
   "metadata": {},
   "outputs": [
    {
     "name": "stdout",
     "output_type": "stream",
     "text": [
      "0\n",
      "1\n",
      "2\n",
      "3\n",
      "4\n",
      "6\n",
      "7\n",
      "8\n",
      "9\n",
      "10\n"
     ]
    }
   ],
   "source": [
    "\n",
    "x=0\n",
    "def skipping(x):\n",
    "    while x<=10:\n",
    "        if x==5:\n",
    "            x+=1\n",
    "            continue\n",
    "        print(x)\n",
    "        x+=1\n",
    "skipping(0)"
   ]
  },
  {
   "cell_type": "markdown",
   "id": "7d15761e-8606-497c-8714-7f2ae34ca759",
   "metadata": {},
   "source": [
    "3. Create a for loop that prints values from 4 to 10 to the console."
   ]
  },
  {
   "cell_type": "code",
   "execution_count": 12,
   "id": "8aeecad6-b9a6-47ce-8190-5606b61391cb",
   "metadata": {},
   "outputs": [
    {
     "name": "stdout",
     "output_type": "stream",
     "text": [
      "4\n",
      "5\n",
      "6\n",
      "7\n",
      "8\n",
      "9\n",
      "10\n"
     ]
    }
   ],
   "source": [
    "def range_value(x,y):\n",
    "    for i in range(x,y):\n",
    "        print(i)\n",
    "range_value(4,11)"
   ]
  },
  {
   "cell_type": "code",
   "execution_count": null,
   "id": "eea1ed34-76a6-4ad5-bf6c-1484a75f9165",
   "metadata": {},
   "outputs": [],
   "source": []
  },
  {
   "cell_type": "markdown",
   "id": "74f7bc59-1453-4414-a0f6-e48960959c54",
   "metadata": {},
   "source": [
    "## Notebook_6\n",
    "Exercise\n",
    "Let's return to our earlier exercise: calculating %GC content. In this exercise:\n",
    "- Write a function `percentageGC` that calculates the GC content of a DNA sequence\n",
    "- The function should return the %GC content\n",
    "- The Function should return a message if the provided sequence is not DNA (This should be checked by a different function, called by your function)\n"
   ]
  },
  {
   "cell_type": "code",
   "execution_count": 14,
   "id": "dd555b8d-c379-4b0c-bc19-b2e85512b973",
   "metadata": {},
   "outputs": [
    {
     "data": {
      "text/plain": [
       "True"
      ]
     },
     "execution_count": 14,
     "metadata": {},
     "output_type": "execute_result"
    }
   ],
   "source": [
    "seq='CAGTGATGATGACGAT'\n",
    "def dna_checker(seq):\n",
    "    for nuc in seq:\n",
    "        if nuc not in 'ATCG':\n",
    "            return False\n",
    "    return True\n",
    "dna_checker(seq)"
   ]
  },
  {
   "cell_type": "code",
   "execution_count": 15,
   "id": "4f5738dc-509e-436d-9ece-feefc1a404e8",
   "metadata": {},
   "outputs": [
    {
     "name": "stdout",
     "output_type": "stream",
     "text": [
      "The percentage GC is 47.06\n"
     ]
    }
   ],
   "source": [
    "mydna = \"CAGTGATGATGACGAT\"\n",
    "yourdna = \"ACGATCGAGACGTAGTA\"\n",
    "testdna = \"ATFRACGATTGHAHYAK\"\n",
    "def percent_gc(seq):\n",
    "    if dna_checker(seq):\n",
    "        total_gc=(seq.count('G')+seq.count('C'))/len(seq)*100\n",
    "        print(f'The percentage GC is {total_gc:.2f}')\n",
    "    else:\n",
    "        print('This is not a valid DNA sequence')\n",
    "percent_gc(yourdna)"
   ]
  },
  {
   "cell_type": "code",
   "execution_count": 195,
   "id": "4c63ee80-a427-4e8a-adf1-7b6e102d3de9",
   "metadata": {},
   "outputs": [
    {
     "name": "stdout",
     "output_type": "stream",
     "text": [
      "The percentage GC is 43.75\n"
     ]
    }
   ],
   "source": [
    "percent_gc(mydna)"
   ]
  },
  {
   "cell_type": "code",
   "execution_count": 196,
   "id": "5f520742-4375-4d76-a658-14fea341e6a9",
   "metadata": {},
   "outputs": [
    {
     "name": "stdout",
     "output_type": "stream",
     "text": [
      "This is not a valid DNA sequence\n"
     ]
    }
   ],
   "source": [
    "percent_gc(testdna)"
   ]
  },
  {
   "cell_type": "markdown",
   "id": "38acafb4-7249-46c2-8a72-0b5a73b6c559",
   "metadata": {},
   "source": [
    "## Notebook_7"
   ]
  },
  {
   "cell_type": "markdown",
   "id": "d0148f48-4244-45f5-850d-42bbb97ce77e",
   "metadata": {},
   "source": [
    "1. Write a function the reads the file (humchr.txt) and writes to another file (gene_names.txt) a clean list of gene names"
   ]
  },
  {
   "cell_type": "code",
   "execution_count": null,
   "id": "be435a7d-902a-4047-979c-c4f9ec03ee24",
   "metadata": {},
   "outputs": [
    {
     "data": {
      "text/plain": [
       "('./Data/humchrx.txt', <http.client.HTTPMessage at 0x7f01875d3310>)"
      ]
     },
     "execution_count": 217,
     "metadata": {},
     "output_type": "execute_result"
    }
   ],
   "source": [
    "import urllib.request\n",
    "\n",
    "url = \"https://www.uniprot.org/docs/humchrx.txt\"\n",
    "destination_filename = \"./Data/humchrx.txt\"\n",
    "urllib.request.urlretrieve(url, destination_filename)"
   ]
  },
  {
   "cell_type": "code",
   "execution_count": 10,
   "id": "7e269ce1-6f8f-4a9b-91a4-114ce1294291",
   "metadata": {},
   "outputs": [
    {
     "ename": "FileNotFoundError",
     "evalue": "[Errno 2] No such file or directory: '../Data/humchrx.txt'",
     "output_type": "error",
     "traceback": [
      "\u001b[0;31m---------------------------------------------------------------------------\u001b[0m",
      "\u001b[0;31mFileNotFoundError\u001b[0m                         Traceback (most recent call last)",
      "\u001b[0;32m/tmp/ipykernel_20161/24822110.py\u001b[0m in \u001b[0;36m<module>\u001b[0;34m\u001b[0m\n\u001b[1;32m      1\u001b[0m \u001b[0mgene_name_list\u001b[0m\u001b[0;34m=\u001b[0m\u001b[0;34m[\u001b[0m\u001b[0;34m]\u001b[0m\u001b[0;34m\u001b[0m\u001b[0;34m\u001b[0m\u001b[0m\n\u001b[0;32m----> 2\u001b[0;31m \u001b[0;32mwith\u001b[0m \u001b[0mopen\u001b[0m\u001b[0;34m(\u001b[0m\u001b[0;34m'../Data/humchrx.txt'\u001b[0m\u001b[0;34m,\u001b[0m \u001b[0;34m'r'\u001b[0m\u001b[0;34m)\u001b[0m \u001b[0;32mas\u001b[0m \u001b[0mmyfile\u001b[0m\u001b[0;34m:\u001b[0m\u001b[0;34m\u001b[0m\u001b[0;34m\u001b[0m\u001b[0m\n\u001b[0m\u001b[1;32m      3\u001b[0m     \u001b[0mmyfile\u001b[0m\u001b[0;34m=\u001b[0m \u001b[0mmyfile\u001b[0m\u001b[0;34m.\u001b[0m\u001b[0mreadlines\u001b[0m\u001b[0;34m(\u001b[0m\u001b[0;34m)\u001b[0m\u001b[0;34m\u001b[0m\u001b[0;34m\u001b[0m\u001b[0m\n\u001b[1;32m      4\u001b[0m     \u001b[0;31m#print(myfile)\u001b[0m\u001b[0;34m\u001b[0m\u001b[0;34m\u001b[0m\u001b[0m\n\u001b[1;32m      5\u001b[0m     \u001b[0;32mfor\u001b[0m \u001b[0mi\u001b[0m\u001b[0;34m,\u001b[0m\u001b[0mlines\u001b[0m \u001b[0;32min\u001b[0m \u001b[0menumerate\u001b[0m\u001b[0;34m(\u001b[0m\u001b[0mmyfile\u001b[0m\u001b[0;34m)\u001b[0m\u001b[0;34m:\u001b[0m\u001b[0;34m\u001b[0m\u001b[0;34m\u001b[0m\u001b[0m\n",
      "\u001b[0;31mFileNotFoundError\u001b[0m: [Errno 2] No such file or directory: '../Data/humchrx.txt'"
     ]
    }
   ],
   "source": [
    "gene_name_list=[]\n",
    "with open('../Data/humchrx.txt', 'r') as myfile:\n",
    "    myfile= myfile.readlines()\n",
    "    #print(myfile)\n",
    "    for i,lines in enumerate(myfile):\n",
    "        #print(i,lines)\n",
    "        if i>35:\n",
    "            #print(i)\n",
    "            split_lines=lines.split()\n",
    "            #print(split_lines)\n",
    "            field=split_lines[0]\n",
    "            #print(field)\n",
    "            if field.startswith('-'):\n",
    "                break\n",
    "            #print(field)\n",
    "            gene_name_list.append(field)\n",
    "print(gene_name_list)\n",
    "    \n",
    "            \n"
   ]
  },
  {
   "cell_type": "markdown",
   "id": "b0cd8c75-83b1-456c-93b4-0ebdb3c86ba3",
   "metadata": {},
   "source": [
    "##### gene_name_list=[]\n",
    "with open('./Data/humchrx.txt', 'r')as myfile:\n",
    "    myfile= myfile.readlines()\n",
    "    #print(myfile)\n",
    "    for i,lines in enumerate(myfile):\n",
    "        #print(i,lines)\n",
    "        if i>35:\n",
    "            #print(i)\n",
    "            split_lines=lines.split()\n",
    "            #print(split_lines)\n",
    "            field=split_lines[0]\n",
    "            #print(field)\n",
    "            if field.startswith('-'):\n",
    "                break\n",
    "            #print(field)\n",
    "            gene_name_list.append(field)\n",
    "print(gene_name_list)\n",
    "    \n",
    "            \n"
   ]
  },
  {
   "cell_type": "code",
   "execution_count": 4,
   "id": "c03e22dd-2fbe-42a7-9aea-68e0968bc238",
   "metadata": {},
   "outputs": [
    {
     "ename": "FileNotFoundError",
     "evalue": "[Errno 2] No such file or directory: './Data/humchrx.txt'",
     "output_type": "error",
     "traceback": [
      "\u001b[0;31m---------------------------------------------------------------------------\u001b[0m",
      "\u001b[0;31mFileNotFoundError\u001b[0m                         Traceback (most recent call last)",
      "\u001b[0;32m/tmp/ipykernel_20161/2930030396.py\u001b[0m in \u001b[0;36m<module>\u001b[0;34m\u001b[0m\n\u001b[1;32m      1\u001b[0m \u001b[0mgene_list\u001b[0m\u001b[0;34m=\u001b[0m\u001b[0;34m[\u001b[0m\u001b[0;34m]\u001b[0m\u001b[0;34m\u001b[0m\u001b[0;34m\u001b[0m\u001b[0m\n\u001b[1;32m      2\u001b[0m \u001b[0;31m#def gene_names:\u001b[0m\u001b[0;34m\u001b[0m\u001b[0;34m\u001b[0m\u001b[0m\n\u001b[0;32m----> 3\u001b[0;31m \u001b[0;32mwith\u001b[0m \u001b[0mopen\u001b[0m\u001b[0;34m(\u001b[0m\u001b[0;34m'./Data/humchrx.txt'\u001b[0m\u001b[0;34m,\u001b[0m \u001b[0;34m'r'\u001b[0m\u001b[0;34m)\u001b[0m \u001b[0;32mas\u001b[0m \u001b[0mmyfile\u001b[0m\u001b[0;34m:\u001b[0m\u001b[0;34m\u001b[0m\u001b[0;34m\u001b[0m\u001b[0m\n\u001b[0m\u001b[1;32m      4\u001b[0m     \u001b[0mfile\u001b[0m\u001b[0;34m=\u001b[0m\u001b[0mmyfile\u001b[0m\u001b[0;34m.\u001b[0m\u001b[0mreadlines\u001b[0m\u001b[0;34m(\u001b[0m\u001b[0;34m)\u001b[0m\u001b[0;34m\u001b[0m\u001b[0;34m\u001b[0m\u001b[0m\n\u001b[1;32m      5\u001b[0m     \u001b[0;31m#rint(file)\u001b[0m\u001b[0;34m\u001b[0m\u001b[0;34m\u001b[0m\u001b[0m\n",
      "\u001b[0;31mFileNotFoundError\u001b[0m: [Errno 2] No such file or directory: './Data/humchrx.txt'"
     ]
    }
   ],
   "source": [
    "gene_list=[]\n",
    "#def gene_names:\n",
    "with open('./Data/humchrx.txt', 'r') as myfile:\n",
    "    file=myfile.readlines()\n",
    "    #rint(file)\n",
    "    for x,line in enumerate(file):\n",
    "        #print(x,line)\n",
    "        if x > 35:\n",
    "            split_lines=line.split()\n",
    "            #print(split_lines)\n",
    "            column=(split_lines[0])\n",
    "            #print(column)\n",
    "            if column.startswith('-'):\n",
    "                break\n",
    "            print(column)\n",
    "            #field=''.join(column)\n",
    "            #gene_list.append(column)  \n",
    "#print(gene_list)"
   ]
  },
  {
   "cell_type": "markdown",
   "id": "726be4b9-23b2-42ba-a52c-496259247c52",
   "metadata": {},
   "source": [
    "Using the same concept, convert your script in exercise 1 to take command line arguments (input and output files)\n",
    "Using a DNA sequence read from file, answer the following questions:\n",
    "Show that the DNA string contains only four letters.\n",
    "In the DNA string there are regions that have a repeating letter. What is the letter and length of the longest repeating region?\n",
    "        How many ’ATG’s are in the DNA string?\n"
   ]
  },
  {
   "cell_type": "code",
   "execution_count": null,
   "id": "ed407cf0-d621-413a-afe6-eaf77f245974",
   "metadata": {},
   "outputs": [],
   "source": [
    "genelist=[]\n",
    "def gene_names():\n",
    "    with open('../Data/humchrx.txt', 'r') as myfile:\n",
    "        with open('../Data/genenames.txt', 'w') as myfile2:\n",
    "            file=myfile.readlines()\n",
    "            #print(file)\n",
    "            for x,line in enumerate(file):\n",
    "                #print(x,line)\n",
    "                if x > 35:\n",
    "                    split_lines = line.split()\n",
    "                    column = split_lines[0]\n",
    "                    if column.startswith('-'):\n",
    "                        break\n",
    "                    myfile2.write(f'{column}\\n' )\n",
    "gene_names()"
   ]
  }
 ],
 "metadata": {
  "kernelspec": {
   "display_name": "Python 3 (ipykernel)",
   "language": "python",
   "name": "python3"
  },
  "language_info": {
   "codemirror_mode": {
    "name": "ipython",
    "version": 3
   },
   "file_extension": ".py",
   "mimetype": "text/x-python",
   "name": "python",
   "nbconvert_exporter": "python",
   "pygments_lexer": "ipython3",
   "version": "3.9.7"
  }
 },
 "nbformat": 4,
 "nbformat_minor": 5
}
